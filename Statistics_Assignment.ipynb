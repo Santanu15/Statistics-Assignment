{
  "nbformat": 4,
  "nbformat_minor": 0,
  "metadata": {
    "colab": {
      "provenance": []
    },
    "kernelspec": {
      "name": "python3",
      "display_name": "Python 3"
    },
    "language_info": {
      "name": "python"
    }
  },
  "cells": [
    {
      "cell_type": "markdown",
      "source": [
        "**Generate a list of 100 integers containing values between 90 to 130 and store it in the variable \"int_list\".**"
      ],
      "metadata": {
        "id": "5eh8uDG9Dsrj"
      }
    },
    {
      "cell_type": "code",
      "source": [
        "import random"
      ],
      "metadata": {
        "id": "QFLruTppEwZt"
      },
      "execution_count": 1,
      "outputs": []
    },
    {
      "cell_type": "code",
      "source": [
        "int_list= []\n",
        "for i in range(100):\n",
        "  int_list.append(random.randint(90,130))\n",
        "print(int_list)"
      ],
      "metadata": {
        "colab": {
          "base_uri": "https://localhost:8080/",
          "height": 0
        },
        "id": "jlRDL4n0FA8p",
        "outputId": "352c3606-cc0b-4bc0-cd0d-b0083c0f5d78"
      },
      "execution_count": 2,
      "outputs": [
        {
          "output_type": "stream",
          "name": "stdout",
          "text": [
            "[113, 125, 130, 129, 96, 115, 110, 128, 119, 100, 105, 108, 99, 103, 95, 129, 112, 130, 93, 111, 129, 94, 101, 121, 124, 129, 96, 108, 98, 100, 100, 106, 121, 128, 115, 91, 125, 96, 100, 102, 92, 99, 122, 96, 122, 97, 114, 111, 90, 107, 105, 104, 106, 94, 100, 126, 91, 115, 103, 94, 96, 121, 116, 117, 125, 102, 113, 122, 127, 126, 110, 98, 94, 99, 97, 115, 114, 119, 113, 127, 108, 121, 122, 126, 126, 109, 96, 110, 115, 92, 101, 123, 109, 110, 113, 110, 112, 108, 109, 91]\n"
          ]
        }
      ]
    },
    {
      "cell_type": "code",
      "source": [
        "# Calculate the Mean and Median"
      ],
      "metadata": {
        "id": "gHTcqfMMFJGY"
      },
      "execution_count": 3,
      "outputs": []
    },
    {
      "cell_type": "code",
      "source": [
        "import statistics"
      ],
      "metadata": {
        "id": "qTu9NVaFFXzn"
      },
      "execution_count": 4,
      "outputs": []
    },
    {
      "cell_type": "code",
      "source": [
        "mean_val=statistics.mean(int_list)\n",
        "print(\"The Mean value is:\",mean_val)\n",
        "\n",
        "median_val=statistics.median(int_list)\n",
        "print(\"The Median value is:\",median_val)"
      ],
      "metadata": {
        "colab": {
          "base_uri": "https://localhost:8080/",
          "height": 0
        },
        "id": "UOHVzOrdFt2W",
        "outputId": "cdcc0e59-7333-4b08-e1a4-55af67bc2be5"
      },
      "execution_count": 5,
      "outputs": [
        {
          "output_type": "stream",
          "name": "stdout",
          "text": [
            "The Mean value is: 109.84\n",
            "The Median value is: 110.0\n"
          ]
        }
      ]
    },
    {
      "cell_type": "code",
      "source": [
        "# Calculate the Mode"
      ],
      "metadata": {
        "id": "Y56p1eBAGPT6"
      },
      "execution_count": 6,
      "outputs": []
    },
    {
      "cell_type": "code",
      "source": [
        "mode_val=statistics.mode(int_list)\n",
        "print(\"The Mode value is:\",mode_val)"
      ],
      "metadata": {
        "colab": {
          "base_uri": "https://localhost:8080/",
          "height": 0
        },
        "id": "VMxZVcxXGlDU",
        "outputId": "2c1bd650-601a-4b31-b2bc-b6c1ff6f1b80"
      },
      "execution_count": 7,
      "outputs": [
        {
          "output_type": "stream",
          "name": "stdout",
          "text": [
            "The Mode value is: 96\n"
          ]
        }
      ]
    },
    {
      "cell_type": "code",
      "source": [
        "# Implement a function to calculate weighted mean"
      ],
      "metadata": {
        "id": "5BuE0bQDGuFk"
      },
      "execution_count": 8,
      "outputs": []
    },
    {
      "cell_type": "code",
      "source": [
        "def weighted_mean(data, weights):\n",
        "  weighted_sum = 0\n",
        "  total_weight = 0\n",
        "  for i in range(len(data)):\n",
        "    weighted_sum += data[i] * weights[i]\n",
        "    total_weight += weights[i]\n",
        "  return weighted_sum / total_weight"
      ],
      "metadata": {
        "id": "s6lKhOlgHF4j"
      },
      "execution_count": 9,
      "outputs": []
    },
    {
      "cell_type": "code",
      "source": [
        "weights=[random.randint(1,10) for i in range(100)]\n",
        "weighted_mean_val=weighted_mean(int_list,weights)\n",
        "print(\"The Weighted Mean value is:\",weighted_mean_val)"
      ],
      "metadata": {
        "colab": {
          "base_uri": "https://localhost:8080/",
          "height": 0
        },
        "id": "f04ndpZLHQqz",
        "outputId": "fb29c01b-b49d-4b65-a97c-261d422ad508"
      },
      "execution_count": 11,
      "outputs": [
        {
          "output_type": "stream",
          "name": "stdout",
          "text": [
            "The Weighted Mean value is: 109.69947275922671\n"
          ]
        }
      ]
    },
    {
      "cell_type": "code",
      "source": [
        "# Implement a function to calculate Geometric Mean"
      ],
      "metadata": {
        "id": "m5ZZl-MOHrKy"
      },
      "execution_count": 12,
      "outputs": []
    },
    {
      "cell_type": "code",
      "source": [
        "import math"
      ],
      "metadata": {
        "id": "4Vi4q2k_IXaA"
      },
      "execution_count": 13,
      "outputs": []
    },
    {
      "cell_type": "code",
      "source": [
        "def geometric_mean(number):\n",
        "  product = 1\n",
        "  for num in number:\n",
        "    product *= num\n",
        "  return math.sqrt(product)"
      ],
      "metadata": {
        "id": "nyAOUn8cIfMI"
      },
      "execution_count": 14,
      "outputs": []
    },
    {
      "cell_type": "code",
      "source": [
        "geometric_mean_val=geometric_mean(int_list)\n",
        "print(\"The Geometric Mean value is:\",geometric_mean_val)"
      ],
      "metadata": {
        "colab": {
          "base_uri": "https://localhost:8080/",
          "height": 0
        },
        "id": "kw2DrrH9Iqkw",
        "outputId": "04698009-146b-487a-88df-64660f576fbc"
      },
      "execution_count": 15,
      "outputs": [
        {
          "output_type": "stream",
          "name": "stdout",
          "text": [
            "The Geometric Mean value is: 8.17407316233081e+101\n"
          ]
        }
      ]
    },
    {
      "cell_type": "code",
      "source": [
        "# Implement a function to calculate Harmonic Mean"
      ],
      "metadata": {
        "id": "fVDNT5NzIx7I"
      },
      "execution_count": 16,
      "outputs": []
    },
    {
      "cell_type": "code",
      "source": [
        "def harmonic_mean(number):\n",
        "  sum = 0\n",
        "  for num in number:\n",
        "    sum += 1 / num\n",
        "  return len(number) / sum"
      ],
      "metadata": {
        "id": "AbMl3iUkI9YH"
      },
      "execution_count": 17,
      "outputs": []
    },
    {
      "cell_type": "code",
      "source": [
        "harmonic_mean_val=harmonic_mean(int_list)\n",
        "print(\"The Harmonic Mean value is:\",harmonic_mean_val)"
      ],
      "metadata": {
        "colab": {
          "base_uri": "https://localhost:8080/",
          "height": 0
        },
        "id": "CoHEiRcIJJuY",
        "outputId": "c8610ad5-4ce2-42f8-a52b-2cfd709280b1"
      },
      "execution_count": 18,
      "outputs": [
        {
          "output_type": "stream",
          "name": "stdout",
          "text": [
            "The Harmonic Mean value is: 108.57545713592394\n"
          ]
        }
      ]
    },
    {
      "cell_type": "code",
      "source": [
        "# Implement a function to determine the midrange of a list of numbers"
      ],
      "metadata": {
        "id": "f5Ef0AHmJMlv"
      },
      "execution_count": 19,
      "outputs": []
    },
    {
      "cell_type": "code",
      "source": [
        "def mid_range(numbers):\n",
        "  numbers.sort()\n",
        "  return (numbers[len(numbers) // 2] + numbers[len(numbers) // 2 - 1]) / 2"
      ],
      "metadata": {
        "id": "gs484Ct4Jg9m"
      },
      "execution_count": 20,
      "outputs": []
    },
    {
      "cell_type": "code",
      "source": [
        "midrange_val=mid_range(int_list)\n",
        "print(\"The Mid_range value is:\",midrange_val)"
      ],
      "metadata": {
        "colab": {
          "base_uri": "https://localhost:8080/",
          "height": 0
        },
        "id": "8Xh4h6IZJkke",
        "outputId": "d9320424-75f2-4757-9b05-bf08814a2a74"
      },
      "execution_count": 21,
      "outputs": [
        {
          "output_type": "stream",
          "name": "stdout",
          "text": [
            "The Mid_range value is: 110.0\n"
          ]
        }
      ]
    },
    {
      "cell_type": "code",
      "source": [
        "# Implement a Python program to find the trimmed mean of a list"
      ],
      "metadata": {
        "id": "G6mq7xfOJqaF"
      },
      "execution_count": 22,
      "outputs": []
    },
    {
      "cell_type": "code",
      "source": [
        "def trimmed_mean(numbers, percentage):\n",
        "  numbers.sort()\n",
        "  trim_size = int(len(numbers) * percentage / 100)\n",
        "  return sum(numbers[trim_size:-trim_size]) / (len(numbers) - 2 * trim_size)"
      ],
      "metadata": {
        "id": "9jEk1JHoJ8YW"
      },
      "execution_count": 23,
      "outputs": []
    },
    {
      "cell_type": "code",
      "source": [
        "trimmed_mean_val=trimmed_mean(int_list,10)\n",
        "print(\"The Trimmed Mean value is:\",trimmed_mean_val)"
      ],
      "metadata": {
        "colab": {
          "base_uri": "https://localhost:8080/",
          "height": 0
        },
        "id": "qwJTnrN5KDJt",
        "outputId": "835bcdfb-2b8e-4c4c-ed96-9267d1d7f85a"
      },
      "execution_count": 24,
      "outputs": [
        {
          "output_type": "stream",
          "name": "stdout",
          "text": [
            "The Trimmed Mean value is: 109.7\n"
          ]
        }
      ]
    },
    {
      "cell_type": "code",
      "source": [],
      "metadata": {
        "id": "abbWKLBHKIEM"
      },
      "execution_count": null,
      "outputs": []
    }
  ]
}